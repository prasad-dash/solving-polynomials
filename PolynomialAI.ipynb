{
  "nbformat": 4,
  "nbformat_minor": 0,
  "metadata": {
    "colab": {
      "name": "PolynomialAI.ipynb",
      "provenance": [],
      "collapsed_sections": [],
      "authorship_tag": "ABX9TyMmL3iy5muj402IBZTREeFE",
      "include_colab_link": true
    },
    "kernelspec": {
      "name": "python3",
      "display_name": "Python 3"
    },
    "language_info": {
      "name": "python"
    }
  },
  "cells": [
    {
      "cell_type": "markdown",
      "metadata": {
        "id": "view-in-github",
        "colab_type": "text"
      },
      "source": [
        "<a href=\"https://colab.research.google.com/github/prasad-dash/solving-polynomials/blob/main/PolynomialAI.ipynb\" target=\"_parent\"><img src=\"https://colab.research.google.com/assets/colab-badge.svg\" alt=\"Open In Colab\"/></a>"
      ]
    },
    {
      "cell_type": "code",
      "execution_count": null,
      "metadata": {
        "colab": {
          "base_uri": "https://localhost:8080/"
        },
        "id": "38o5oXoBPTQr",
        "outputId": "ddfa02d5-b297-4055-dec6-3ca6c623996b"
      },
      "outputs": [
        {
          "output_type": "stream",
          "name": "stdout",
          "text": [
            "--2022-02-17 02:48:51--  http://deepyeti.ucsd.edu/jianmo/amazon/categoryFiles/Cell_Phones_and_Accessories.json.gz\n",
            "Resolving deepyeti.ucsd.edu (deepyeti.ucsd.edu)... 169.228.63.50\n",
            "Connecting to deepyeti.ucsd.edu (deepyeti.ucsd.edu)|169.228.63.50|:80... connected.\n",
            "HTTP request sent, awaiting response... 200 OK\n",
            "Length: 1232323281 (1.1G) [application/octet-stream]\n",
            "Saving to: ‘Cell_Phones_and_Accessories.json.gz’\n",
            "\n",
            "Cell_Phones_and_Acc 100%[===================>]   1.15G  20.7MB/s    in 57s     \n",
            "\n",
            "2022-02-17 02:49:49 (20.6 MB/s) - ‘Cell_Phones_and_Accessories.json.gz’ saved [1232323281/1232323281]\n",
            "\n"
          ]
        }
      ],
      "source": [
        "!wget http://deepyeti.ucsd.edu/jianmo/amazon/categoryFiles/Cell_Phones_and_Accessories.json.gz"
      ]
    },
    {
      "cell_type": "code",
      "source": [
        "!wget http://deepyeti.ucsd.edu/jianmo/amazon/metaFiles2/meta_Cell_Phones_and_Accessories.json.gz"
      ],
      "metadata": {
        "colab": {
          "base_uri": "https://localhost:8080/"
        },
        "id": "sHpIpJZqPVg-",
        "outputId": "4e12dad4-bba2-4bb1-8b93-2995af055c61"
      },
      "execution_count": null,
      "outputs": [
        {
          "output_type": "stream",
          "name": "stdout",
          "text": [
            "--2022-02-17 02:49:49--  http://deepyeti.ucsd.edu/jianmo/amazon/metaFiles2/meta_Cell_Phones_and_Accessories.json.gz\n",
            "Resolving deepyeti.ucsd.edu (deepyeti.ucsd.edu)... 169.228.63.50\n",
            "Connecting to deepyeti.ucsd.edu (deepyeti.ucsd.edu)|169.228.63.50|:80... connected.\n",
            "HTTP request sent, awaiting response... 200 OK\n",
            "Length: 360006372 (343M) [application/octet-stream]\n",
            "Saving to: ‘meta_Cell_Phones_and_Accessories.json.gz’\n",
            "\n",
            "meta_Cell_Phones_an 100%[===================>] 343.33M  21.3MB/s    in 16s     \n",
            "\n",
            "2022-02-17 02:50:06 (20.8 MB/s) - ‘meta_Cell_Phones_and_Accessories.json.gz’ saved [360006372/360006372]\n",
            "\n"
          ]
        }
      ]
    },
    {
      "cell_type": "code",
      "source": [
        "!gzip -d /content/Cell_Phones_and_Accessories.json.gz\n",
        "!gzip -d /content/meta_Cell_Phones_and_Accessories.json.gz"
      ],
      "metadata": {
        "id": "p9EoxfAnPdHN"
      },
      "execution_count": null,
      "outputs": []
    },
    {
      "cell_type": "code",
      "source": [
        "import pandas as pd"
      ],
      "metadata": {
        "id": "dF0erHUSP2sI"
      },
      "execution_count": null,
      "outputs": []
    },
    {
      "cell_type": "code",
      "source": [
        "df_review=pd.read_json('/content/Cell_Phones_and_Accessories.json',lines=True,chunksize=100000)\n",
        "df_product=pd.read_json('/content/meta_Cell_Phones_and_Accessories.json',lines=True,chunksize=100000)"
      ],
      "metadata": {
        "id": "nt4lO81LQX0u"
      },
      "execution_count": null,
      "outputs": []
    },
    {
      "cell_type": "code",
      "source": [
        "dummy_Review=pd.read_json('/content/Cell_Phones_and_Accessories.json',lines=True,nrows=10)\n",
        "dummy_Product=pd.read_json('/content/meta_Cell_Phones_and_Accessories.json',lines=True,nrows=10)"
      ],
      "metadata": {
        "id": "Ful43b2vQ-_w"
      },
      "execution_count": null,
      "outputs": []
    },
    {
      "cell_type": "code",
      "source": [
        "for i in df_review:\n",
        "  review_columns=i.columns\n",
        "  break\n",
        "\n",
        "for i in df_product:\n",
        "  product_columns=i.columns\n",
        "  break\n"
      ],
      "metadata": {
        "id": "w1bPSR9lS7mu"
      },
      "execution_count": null,
      "outputs": []
    },
    {
      "cell_type": "code",
      "source": [
        "na_values_product={}\n",
        "for i in product_columns:\n",
        "  na_values_product[i]=0\n",
        "\n",
        "na_values_review={}\n",
        "for i in review_columns:\n",
        "  na_values_review[i]=0"
      ],
      "metadata": {
        "id": "4N2p8lqFJRRB"
      },
      "execution_count": null,
      "outputs": []
    },
    {
      "cell_type": "code",
      "source": [
        "print(na_values_review)\n",
        "print(na_values_product)"
      ],
      "metadata": {
        "colab": {
          "base_uri": "https://localhost:8080/"
        },
        "id": "EevTMm03K_c0",
        "outputId": "8a606e64-29e7-452c-81a6-7ec443b955b7"
      },
      "execution_count": null,
      "outputs": [
        {
          "output_type": "stream",
          "name": "stdout",
          "text": [
            "{'overall': 0, 'verified': 0, 'reviewTime': 0, 'reviewerID': 0, 'asin': 0, 'reviewerName': 0, 'reviewText': 0, 'summary': 0, 'unixReviewTime': 0, 'vote': 0, 'image': 0, 'style': 0}\n",
            "{'category': 0, 'tech1': 0, 'description': 0, 'fit': 0, 'title': 0, 'also_buy': 0, 'tech2': 0, 'brand': 0, 'feature': 0, 'rank': 0, 'also_view': 0, 'details': 0, 'main_cat': 0, 'similar_item': 0, 'date': 0, 'price': 0, 'asin': 0, 'imageURL': 0, 'imageURLHighRes': 0}\n"
          ]
        }
      ]
    },
    {
      "cell_type": "code",
      "source": [
        "chunk_no=0\n",
        "for i in df_review:\n",
        "  print(\"Chunk No-\",chunk_no)\n",
        "  chunk_no=chunk_no+1\n",
        "  for j in review_columns:\n",
        "    na_values_review[j]=na_values_review[j]+i[j].isna().sum()"
      ],
      "metadata": {
        "colab": {
          "base_uri": "https://localhost:8080/"
        },
        "id": "f2UjwhVwJxrB",
        "outputId": "806398e0-11cc-4422-a325-5867f0abb3ac"
      },
      "execution_count": null,
      "outputs": [
        {
          "output_type": "stream",
          "name": "stdout",
          "text": [
            "Chunk No- 0\n",
            "Chunk No- 1\n",
            "Chunk No- 2\n",
            "Chunk No- 3\n",
            "Chunk No- 4\n",
            "Chunk No- 5\n",
            "Chunk No- 6\n",
            "Chunk No- 7\n",
            "Chunk No- 8\n",
            "Chunk No- 9\n",
            "Chunk No- 10\n",
            "Chunk No- 11\n",
            "Chunk No- 12\n",
            "Chunk No- 13\n",
            "Chunk No- 14\n",
            "Chunk No- 15\n",
            "Chunk No- 16\n",
            "Chunk No- 17\n",
            "Chunk No- 18\n",
            "Chunk No- 19\n",
            "Chunk No- 20\n",
            "Chunk No- 21\n",
            "Chunk No- 22\n",
            "Chunk No- 23\n",
            "Chunk No- 24\n",
            "Chunk No- 25\n",
            "Chunk No- 26\n",
            "Chunk No- 27\n",
            "Chunk No- 28\n",
            "Chunk No- 29\n",
            "Chunk No- 30\n",
            "Chunk No- 31\n",
            "Chunk No- 32\n",
            "Chunk No- 33\n",
            "Chunk No- 34\n",
            "Chunk No- 35\n",
            "Chunk No- 36\n",
            "Chunk No- 37\n",
            "Chunk No- 38\n",
            "Chunk No- 39\n",
            "Chunk No- 40\n",
            "Chunk No- 41\n",
            "Chunk No- 42\n",
            "Chunk No- 43\n",
            "Chunk No- 44\n",
            "Chunk No- 45\n",
            "Chunk No- 46\n",
            "Chunk No- 47\n",
            "Chunk No- 48\n",
            "Chunk No- 49\n",
            "Chunk No- 50\n",
            "Chunk No- 51\n",
            "Chunk No- 52\n",
            "Chunk No- 53\n",
            "Chunk No- 54\n",
            "Chunk No- 55\n",
            "Chunk No- 56\n",
            "Chunk No- 57\n",
            "Chunk No- 58\n",
            "Chunk No- 59\n",
            "Chunk No- 60\n",
            "Chunk No- 61\n",
            "Chunk No- 62\n",
            "Chunk No- 63\n",
            "Chunk No- 64\n",
            "Chunk No- 65\n",
            "Chunk No- 66\n",
            "Chunk No- 67\n",
            "Chunk No- 68\n",
            "Chunk No- 69\n",
            "Chunk No- 70\n",
            "Chunk No- 71\n",
            "Chunk No- 72\n",
            "Chunk No- 73\n",
            "Chunk No- 74\n",
            "Chunk No- 75\n",
            "Chunk No- 76\n",
            "Chunk No- 77\n",
            "Chunk No- 78\n",
            "Chunk No- 79\n",
            "Chunk No- 80\n",
            "Chunk No- 81\n",
            "Chunk No- 82\n",
            "Chunk No- 83\n",
            "Chunk No- 84\n",
            "Chunk No- 85\n",
            "Chunk No- 86\n",
            "Chunk No- 87\n",
            "Chunk No- 88\n",
            "Chunk No- 89\n",
            "Chunk No- 90\n",
            "Chunk No- 91\n",
            "Chunk No- 92\n",
            "Chunk No- 93\n",
            "Chunk No- 94\n",
            "Chunk No- 95\n",
            "Chunk No- 96\n",
            "Chunk No- 97\n",
            "Chunk No- 98\n",
            "Chunk No- 99\n"
          ]
        }
      ]
    },
    {
      "cell_type": "code",
      "source": [
        "chunk_no=0\n",
        "for i in df_product:\n",
        "  print(\"Chunk No-\",chunk_no)\n",
        "  chunk_no=chunk_no+1\n",
        "  for j in product_columns:\n",
        "    na_values_product[j]=na_values_product[j]+i[j].isna().sum()"
      ],
      "metadata": {
        "colab": {
          "base_uri": "https://localhost:8080/"
        },
        "id": "3tn6wQ_PLxzE",
        "outputId": "dc15581a-9faa-47c8-d7ba-a8332530e784"
      },
      "execution_count": null,
      "outputs": [
        {
          "output_type": "stream",
          "name": "stdout",
          "text": [
            "Chunk No- 0\n",
            "Chunk No- 1\n",
            "Chunk No- 2\n",
            "Chunk No- 3\n",
            "Chunk No- 4\n"
          ]
        }
      ]
    },
    {
      "cell_type": "code",
      "source": [
        "na_values_review"
      ],
      "metadata": {
        "colab": {
          "base_uri": "https://localhost:8080/"
        },
        "id": "HiBxjCK5NtHb",
        "outputId": "77a6f68f-1c62-45c7-bc9f-fde9117ef029"
      },
      "execution_count": null,
      "outputs": [
        {
          "output_type": "execute_result",
          "data": {
            "text/plain": [
              "{'asin': 0,\n",
              " 'image': 9781376,\n",
              " 'overall': 0,\n",
              " 'reviewText': 9360,\n",
              " 'reviewTime': 0,\n",
              " 'reviewerID': 0,\n",
              " 'reviewerName': 724,\n",
              " 'style': 4968616,\n",
              " 'summary': 5506,\n",
              " 'unixReviewTime': 0,\n",
              " 'verified': 0,\n",
              " 'vote': 9295414}"
            ]
          },
          "metadata": {},
          "execution_count": 11
        }
      ]
    },
    {
      "cell_type": "code",
      "source": [
        "na_values_product"
      ],
      "metadata": {
        "colab": {
          "base_uri": "https://localhost:8080/"
        },
        "id": "DBDlPycMNjAC",
        "outputId": "87aebad5-5855-4c3b-9951-b221c235568a"
      },
      "execution_count": null,
      "outputs": [
        {
          "output_type": "execute_result",
          "data": {
            "text/plain": [
              "{'also_buy': 0,\n",
              " 'also_view': 0,\n",
              " 'asin': 0,\n",
              " 'brand': 0,\n",
              " 'category': 0,\n",
              " 'date': 0,\n",
              " 'description': 0,\n",
              " 'details': 0,\n",
              " 'feature': 0,\n",
              " 'fit': 0,\n",
              " 'imageURL': 0,\n",
              " 'imageURLHighRes': 0,\n",
              " 'main_cat': 0,\n",
              " 'price': 0,\n",
              " 'rank': 0,\n",
              " 'similar_item': 0,\n",
              " 'tech1': 0,\n",
              " 'tech2': 0,\n",
              " 'title': 0}"
            ]
          },
          "metadata": {},
          "execution_count": 12
        }
      ]
    },
    {
      "cell_type": "markdown",
      "source": [
        "- The number of reviews without any text = 9396\n",
        "\n",
        "These reviews need to be dropped"
      ],
      "metadata": {
        "id": "rJlYIQ5ySQwA"
      }
    },
    {
      "cell_type": "code",
      "source": [
        "i.head(1).reviewText.iloc[0]"
      ],
      "metadata": {
        "colab": {
          "base_uri": "https://localhost:8080/",
          "height": 35
        },
        "id": "UgPvZf1LSQif",
        "outputId": "87424cfd-11a5-4605-f22a-7257384781df"
      },
      "execution_count": null,
      "outputs": [
        {
          "output_type": "execute_result",
          "data": {
            "application/vnd.google.colaboratory.intrinsic+json": {
              "type": "string"
            },
            "text/plain": [
              "'it withstands a lot and is worth the money only thing IT DOESNT HAVE A CAMERA'"
            ]
          },
          "metadata": {},
          "execution_count": 16
        }
      ]
    },
    {
      "cell_type": "code",
      "source": [
        ""
      ],
      "metadata": {
        "id": "iaeauLwXVsTZ"
      },
      "execution_count": null,
      "outputs": []
    },
    {
      "cell_type": "code",
      "source": [
        "import nltk \n",
        "from nltk.corpus import stopwords\n",
        "nltk.download('stopwords')\n",
        "STOP_WORDS= set(stopwords.words('english'))"
      ],
      "metadata": {
        "colab": {
          "base_uri": "https://localhost:8080/"
        },
        "id": "UkVF2vOjSNAN",
        "outputId": "480d8b8a-01fe-4dbb-98db-b34ef55568ba"
      },
      "execution_count": null,
      "outputs": [
        {
          "output_type": "stream",
          "name": "stdout",
          "text": [
            "[nltk_data] Downloading package stopwords to /root/nltk_data...\n",
            "[nltk_data]   Unzipping corpora/stopwords.zip.\n"
          ]
        }
      ]
    },
    {
      "cell_type": "code",
      "source": [
        "import numpy as np\n",
        "tokenizer = nltk.RegexpTokenizer(r\"\\w+\")\n",
        "vocabulary=set()\n",
        "for i in df_review:\n",
        "  for j in i.dropna(subset=['reviewText'])['reviewText']:\n",
        "    for k in tokenizer.tokenize(j):\n",
        "      vocabulary.add(k)"
      ],
      "metadata": {
        "id": "Lhl-SUGZbOKU"
      },
      "execution_count": null,
      "outputs": []
    },
    {
      "cell_type": "code",
      "source": [
        "len(vocabulary)"
      ],
      "metadata": {
        "colab": {
          "base_uri": "https://localhost:8080/"
        },
        "id": "WV2pafR9cMbx",
        "outputId": "3caff3b6-3810-45d1-e21f-4fa52286dbe5"
      },
      "execution_count": null,
      "outputs": [
        {
          "output_type": "execute_result",
          "data": {
            "text/plain": [
              "540830"
            ]
          },
          "metadata": {},
          "execution_count": 17
        }
      ]
    },
    {
      "cell_type": "code",
      "source": [
        "from sklearn.feature_extraction.text import TfidfVectorizer\n",
        "from sklearn.feature_extraction.text import CountVectorizer\n",
        "vectorizer = CountVectorizer(stop_words='english')\n",
        "vectorizer=vectorizer.fit(vocabulary)"
      ],
      "metadata": {
        "id": "oc9h30X3enaF"
      },
      "execution_count": null,
      "outputs": []
    },
    {
      "cell_type": "code",
      "source": [
        "def textUtility(s):\n",
        "  tokenizer = nltk.RegexpTokenizer(r\"\\w+\")\n",
        "  s=' '.join(tokenizer.tokenize(s))\n",
        "  return s  "
      ],
      "metadata": {
        "id": "cGuRfyfVhra5"
      },
      "execution_count": null,
      "outputs": []
    },
    {
      "cell_type": "code",
      "source": [
        "textUtility(\"Hello this is a bad product\")"
      ],
      "metadata": {
        "colab": {
          "base_uri": "https://localhost:8080/",
          "height": 35
        },
        "id": "YCM0blaihwUD",
        "outputId": "bac8c8ee-d3e0-478b-8ffd-e2949799309a"
      },
      "execution_count": null,
      "outputs": [
        {
          "output_type": "execute_result",
          "data": {
            "application/vnd.google.colaboratory.intrinsic+json": {
              "type": "string"
            },
            "text/plain": [
              "'Hello this is a bad product'"
            ]
          },
          "metadata": {},
          "execution_count": 146
        }
      ]
    },
    {
      "cell_type": "code",
      "source": [
        "def ratingToNumber(rating):\n",
        "  if rating<=2:\n",
        "    return -1\n",
        "  elif rating==3:\n",
        "    return 0\n",
        "  else :\n",
        "    return 1"
      ],
      "metadata": {
        "id": "SF2KJptVpc8T"
      },
      "execution_count": null,
      "outputs": []
    },
    {
      "cell_type": "code",
      "source": [
        "def generateBatches(df_reader_object):\n",
        "  for i in df_reader_object:\n",
        "    i=i.dropna(subset=['reviewText'])\n",
        "    i['overall']=i['overall'].apply(ratingToNumber)\n",
        "    i['reviewText']=i['reviewText'].apply(textUtility)\n",
        "    yield i[['reviewText','overall']]"
      ],
      "metadata": {
        "id": "4oe9tgkArN9O"
      },
      "execution_count": null,
      "outputs": []
    },
    {
      "cell_type": "code",
      "source": [
        "batchGenerator=generateBatches(df_review)"
      ],
      "metadata": {
        "id": "vZxn5YLBrSu-"
      },
      "execution_count": null,
      "outputs": []
    },
    {
      "cell_type": "code",
      "source": [
        "testData=next(batchGenerator)"
      ],
      "metadata": {
        "id": "I9xgDVrQrd1Y",
        "colab": {
          "base_uri": "https://localhost:8080/"
        },
        "outputId": "8af85baf-8b44-462e-d240-d66c838a04be"
      },
      "execution_count": null,
      "outputs": [
        {
          "output_type": "stream",
          "name": "stderr",
          "text": [
            "/usr/local/lib/python3.7/dist-packages/ipykernel_launcher.py:4: SettingWithCopyWarning: \n",
            "A value is trying to be set on a copy of a slice from a DataFrame.\n",
            "Try using .loc[row_indexer,col_indexer] = value instead\n",
            "\n",
            "See the caveats in the documentation: https://pandas.pydata.org/pandas-docs/stable/user_guide/indexing.html#returning-a-view-versus-a-copy\n",
            "  after removing the cwd from sys.path.\n"
          ]
        }
      ]
    },
    {
      "cell_type": "code",
      "source": [
        "from sklearn.feature_extraction.text import HashingVectorizer\n",
        "from sklearn.linear_model import PassiveAggressiveClassifier\n",
        "from sklearn.linear_model import Perceptron\n",
        "from sklearn.naive_bayes import MultinomialNB\n"
      ],
      "metadata": {
        "id": "dRiXJkRMuDdN"
      },
      "execution_count": null,
      "outputs": []
    },
    {
      "cell_type": "code",
      "source": [
        ""
      ],
      "metadata": {
        "colab": {
          "base_uri": "https://localhost:8080/"
        },
        "id": "ejZKkPaQ4zds",
        "outputId": "0d1b0ef1-1b1e-4479-ba77-fa31d1dfc08e"
      },
      "execution_count": null,
      "outputs": [
        {
          "output_type": "execute_result",
          "data": {
            "text/plain": [
              "MultinomialNB(alpha=0.0025)"
            ]
          },
          "metadata": {},
          "execution_count": 143
        }
      ]
    },
    {
      "cell_type": "code",
      "source": [
        "import matplotlib.pyplot as plt\n",
        "from sklearn.metrics import confusion_matrix,ConfusionMatrixDisplay\n",
        "X =vectorizer.transform(testData['reviewText'])\n",
        "cm=confusion_matrix(testData['overall'], nb.predict(X))\n",
        "disp = ConfusionMatrixDisplay(confusion_matrix=cm,display_labels=nb.classes_)\n",
        "disp.plot()"
      ],
      "metadata": {
        "colab": {
          "base_uri": "https://localhost:8080/",
          "height": 296
        },
        "id": "FFOqHb3V6mr8",
        "outputId": "8a0b0480-6f7d-465e-b922-2670098f4fed"
      },
      "execution_count": null,
      "outputs": [
        {
          "output_type": "execute_result",
          "data": {
            "text/plain": [
              "<sklearn.metrics._plot.confusion_matrix.ConfusionMatrixDisplay at 0x7f92382e6250>"
            ]
          },
          "metadata": {},
          "execution_count": 155
        },
        {
          "output_type": "display_data",
          "data": {
            "image/png": "[encoded data removed]",
            "text/plain": [
              "<Figure size 432x288 with 2 Axes>"
            ]
          },
          "metadata": {
            "needs_background": "light"
          }
        }
      ]
    },
    {
      "cell_type": "code",
      "source": [
        "nb=MultinomialNB(alpha=0.0025)\n",
        "for i in batchGenerator:\n",
        "  tick = time.time()\n",
        "  X=vectorizer.transform(i['reviewText'])\n",
        "  y=i['overall']\n",
        "  nb.partial_fit(X,y,classes=[1,0,-1])\n",
        "  print(time.time()-tick)"
      ],
      "metadata": {
        "colab": {
          "base_uri": "https://localhost:8080/"
        },
        "id": "gK17lseM-Uqh",
        "outputId": "170d7e87-de43-45ae-d324-bc0c4cc0421e"
      },
      "execution_count": null,
      "outputs": [
        {
          "output_type": "stream",
          "name": "stdout",
          "text": [
            "3.1829938888549805\n",
            "3.151102304458618\n",
            "4.328655004501343\n",
            "3.239400625228882\n",
            "2.7999887466430664\n",
            "2.9534101486206055\n",
            "3.1940033435821533\n",
            "2.8414783477783203\n"
          ]
        },
        {
          "output_type": "stream",
          "name": "stderr",
          "text": [
            "/usr/local/lib/python3.7/dist-packages/ipykernel_launcher.py:4: SettingWithCopyWarning: \n",
            "A value is trying to be set on a copy of a slice from a DataFrame.\n",
            "Try using .loc[row_indexer,col_indexer] = value instead\n",
            "\n",
            "See the caveats in the documentation: https://pandas.pydata.org/pandas-docs/stable/user_guide/indexing.html#returning-a-view-versus-a-copy\n",
            "  after removing the cwd from sys.path.\n"
          ]
        },
        {
          "output_type": "stream",
          "name": "stdout",
          "text": [
            "2.8087196350097656\n",
            "2.924621343612671\n",
            "2.7841103076934814\n",
            "2.821286916732788\n",
            "2.8714096546173096\n",
            "3.0581579208374023\n",
            "3.0384514331817627\n",
            "2.921757459640503\n",
            "3.0573177337646484\n",
            "2.9267895221710205\n",
            "2.98004412651062\n",
            "2.9500105381011963\n",
            "3.3446390628814697\n",
            "2.718839406967163\n",
            "3.1433334350585938\n",
            "2.97052001953125\n",
            "2.951996326446533\n",
            "3.079594850540161\n",
            "3.1535513401031494\n",
            "3.039094924926758\n",
            "2.884333610534668\n",
            "2.8710672855377197\n",
            "2.747044324874878\n",
            "2.92262601852417\n",
            "2.9814324378967285\n",
            "2.9103267192840576\n",
            "3.212427854537964\n",
            "2.8969874382019043\n",
            "2.9998152256011963\n",
            "3.0011396408081055\n",
            "2.904428720474243\n",
            "2.941162586212158\n",
            "2.9215142726898193\n",
            "3.1005263328552246\n",
            "3.3430769443511963\n",
            "3.263704299926758\n",
            "3.051919460296631\n",
            "3.1180131435394287\n",
            "3.244079828262329\n",
            "3.2234416007995605\n",
            "3.2542216777801514\n",
            "3.056536912918091\n",
            "2.9989356994628906\n",
            "3.153184413909912\n",
            "3.121267080307007\n",
            "2.9035749435424805\n",
            "2.8956711292266846\n",
            "2.8901102542877197\n",
            "2.947406053543091\n",
            "4.4477832317352295\n",
            "3.8532168865203857\n",
            "3.3056161403656006\n",
            "3.0579826831817627\n",
            "2.9169857501983643\n",
            "2.8335022926330566\n",
            "2.8000879287719727\n",
            "2.5867812633514404\n",
            "2.4979679584503174\n",
            "2.414459705352783\n",
            "2.2634146213531494\n",
            "3.7000014781951904\n",
            "2.385995388031006\n",
            "2.491641044616699\n",
            "2.578763961791992\n",
            "2.468487024307251\n",
            "2.576185941696167\n",
            "2.653686761856079\n",
            "2.801708459854126\n",
            "2.939185380935669\n",
            "2.8021655082702637\n",
            "3.0671637058258057\n",
            "1.7882046699523926\n"
          ]
        }
      ]
    },
    {
      "cell_type": "code",
      "source": [
        ""
      ],
      "metadata": {
        "id": "SiPnE-3l-WNX"
      },
      "execution_count": null,
      "outputs": []
    }
  ]
}